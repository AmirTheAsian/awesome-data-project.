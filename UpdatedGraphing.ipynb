{
 "cells": [
  {
   "cell_type": "code",
   "execution_count": null,
   "id": "29364119-2b88-40a0-8c55-29ab56a05aab",
   "metadata": {
    "tags": []
   },
   "outputs": [],
   "source": [
    "import pandas as pd\n",
    "import numpy as np \n",
    "import geopandas as gpd\n",
    "import matplotlib \n",
    "from matplotlib import pyplot as plt \n",
    "pd.set_option('display.max_columns',None)\n",
    "import seaborn as sns \n",
    "from shapely.geometry import Point, Polygon \n",
    "\n",
    "\n",
    "dataset = pd.read_csv('/srv/data/my_shared_data_folder/rafi/2022_Business_Academic_QCQ_grocery.csv')\n",
    "dataset.drop(['Unnamed: 0'],inplace=True,axis=1)\n",
    "dataset"
   ]
  },
  {
   "cell_type": "code",
   "execution_count": null,
   "id": "8beb2095-2bc4-4279-b7d4-e5288790937b",
   "metadata": {
    "tags": []
   },
   "outputs": [],
   "source": [
    "stores_2022 = pd.read_csv('/srv/data/my_shared_data_folder/rafi/2022_Business_Academic_QCQ_grocery.csv')\n",
    "stores_2022.drop(['Unnamed: 0'],inplace=True,axis=1)\n",
    "territories = ['PR', 'FM', 'MP', 'GU', 'VI', 'MH']\n",
    "stores_2022 = stores_2022.drop(stores_2022[stores_2022['STATE'].isin(territories)].index)\n",
    "stores_2022.head()"
   ]
  },
  {
   "cell_type": "code",
   "execution_count": null,
   "id": "3d2a9cee-ecbd-4acd-b452-c022a34b08a4",
   "metadata": {
    "tags": []
   },
   "outputs": [],
   "source": [
    "stores_2022 = pd.read_csv('/srv/data/my_shared_data_folder/rafi/2022_Business_Academic_QCQ_grocery.csv')\n",
    "stores_2022.drop(['Unnamed: 0'],inplace=True,axis=1)\n",
    "territories = ['PR', 'FM', 'MP', 'GU', 'VI', 'MH']\n",
    "stores_2022 = stores_2022.drop(stores_2022[stores_2022['STATE'].isin(territories)].index)\n",
    "stores_2022.head()\n",
    "#Filter Grocery stores by sic (starting with 5411)\n",
    "grocery_sic = stores_2022.loc[stores_2022[['PRIMARY SIC CODE', 'SIC CODE', 'SIC CODE 1', 'SIC CODE 2', 'SIC CODE 3', 'SIC CODE 4']].astype(str).apply(lambda x: x.str.startswith('5411')).any(axis=1)]\n",
    "grocery_sic.head()"
   ]
  },
  {
   "cell_type": "code",
   "execution_count": null,
   "id": "6595901b-b44d-49b1-a61b-ea62c1199ea7",
   "metadata": {
    "tags": []
   },
   "outputs": [],
   "source": [
    "#Filter Grocery stores by sic (starting with 5411)\n",
    "grocery_sic = stores_2022.loc[stores_2022[['PRIMARY SIC CODE', 'SIC CODE', 'SIC CODE 1', 'SIC CODE 2', 'SIC CODE 3', 'SIC CODE 4']].astype(str).apply(lambda x: x.str.startswith('5411')).any(axis=1)]\n",
    "grocery_sic.head()\n",
    "#Find top ten parent companies\n",
    "grocery_t10_22 = grocery_sic.groupby('PARENT NUMBER', dropna=False).size().reset_index(name='COUNT')\n",
    "grocery_t10_22.sort_values('COUNT', ascending=False, inplace=True)\n",
    "grocery_t10_22.reset_index(drop=True,inplace=True)\n",
    "# Create other row\n",
    "other_row = grocery_t10_22.iloc[11:]\n",
    "other_column = other_row['COUNT'].sum()\n",
    "# Remove other rows\n",
    "grocery_t10_22 = grocery_t10_22.iloc[:11]\n",
    "grocery_t10_22.loc[len(grocery_t10_22)] = [\"Other\", other_column]\n",
    "grocery_t10_22['PARENT NUMBER'] = grocery_t10_22['PARENT NUMBER'].astype(str)\n",
    "grocery_t10_22['Percent'] = grocery_t10_22['COUNT'] / len(grocery_sic) * 100\n",
    "grocery_t10_22.head(20) "
   ]
  },
  {
   "cell_type": "code",
   "execution_count": null,
   "id": "79a24b47-3bf2-4f91-9034-f51ab284a1b6",
   "metadata": {
    "tags": []
   },
   "outputs": [],
   "source": [
    "#Filter Grocery stores by sic (starting with 5411)\n",
    "grocery_sic = stores_2022.loc[stores_2022[['PRIMARY SIC CODE', 'SIC CODE', 'SIC CODE 1', 'SIC CODE 2', 'SIC CODE 3', 'SIC CODE 4']].astype(str).apply(lambda x: x.str.startswith('5411')).any(axis=1)]\n",
    "grocery_sic.head()\n",
    "#Find top ten parent companies\n",
    "grocery_t10_22 = grocery_sic.groupby('PARENT NUMBER', dropna=False).size().reset_index(name='COUNT')\n",
    "grocery_t10_22.sort_values('COUNT', ascending=False, inplace=True)\n",
    "grocery_t10_22.reset_index(drop=True,inplace=True)\n",
    "# Create other row\n",
    "other_row = grocery_t10_22.iloc[11:]\n",
    "other_column = other_row['COUNT'].sum()\n",
    "# Remove other rows\n",
    "grocery_t10_22 = grocery_t10_22.iloc[:11]\n",
    "grocery_t10_22.loc[len(grocery_t10_22)] = [\"Other\", other_column]\n",
    "grocery_t10_22['PARENT NUMBER'] = grocery_t10_22['PARENT NUMBER'].astype(str)\n",
    "grocery_t10_22['Percent'] = grocery_t10_22['COUNT'] / len(grocery_sic) * 100\n",
    "grocery_t10_22.head(20) \n",
    "#trying to add column of the employee number \n",
    "EmployeeNumber = grocery_sic['LOCATION EMPLOYEE SIZE CODE']\n",
    "#EmployeeNumber.append(grocery_sic)\n",
    "#EmployeeNumber\n",
    "EmployeeNumber['LOCATION EMPLOYEE SIZE CODE'] = grocery_t10_22['LOCATION EMPLOYEE SIZE CODE']\n",
    "EmployeeNumber\n"
   ]
  },
  {
   "cell_type": "code",
   "execution_count": null,
   "id": "cdf428d3-8074-4f9e-a36a-95b1bbf5dd0d",
   "metadata": {
    "tags": []
   },
   "outputs": [],
   "source": [
    "import matplotlib.pyplot as plt\n",
    "\n",
    "fig, ax = plt.subplots()\n",
    "\n",
    "#parent number would be on the  x-axis, percentage would be on the y-axis \n",
    "PARENTNUMBER = ['nan', '586331.0', '450730389.0', '5889993.0','7521503.0','441412723.0','5995907.0','200026573.0','238136725.0','714232249.0','433922353.0','other']\n",
    "COUNT = [77818, 11939, 6814, 4397, 3574,2499,2493,2217,2105,1760,1755,40514]\n",
    "\n",
    "#bar_labels = ['red']\n",
    "#bar_colors = ['tab:red', 'tab:blue', 'tab:red', 'tab:orange']\n",
    "\n",
    "#ax.bar(fruits, counts, label=bar_labels, color=bar_colors)\n",
    "ax.set_xlabel('PARENT NUMBER')\n",
    "ax.set_ylabel('COUNT')\n",
    "ax.set_title(' GRAPH')\n",
    "#ax.legend(title='Fruit color')\n",
    "\n",
    "plt.show()\n",
    "\n"
   ]
  },
  {
   "cell_type": "code",
   "execution_count": null,
   "id": "29fcc893-5e60-456b-b04a-e43af9c8340e",
   "metadata": {
    "tags": []
   },
   "outputs": [],
   "source": [
    "import matplotlib.pyplot as plt\n",
    "\n",
    "fig, ax = plt.subplots()\n",
    "\n",
    "#parent number would be on the  x-axis, percentage would be on the y-axis \n",
    "PARENTNUMBER = ['nan', '586331.0', '450730389.0', '5889993.0','7521503.0','441412723.0','5995907.0','200026573.0','238136725.0','714232249.0','433922353.0','other']\n",
    "COUNT = [77818, 11939, 6814, 4397, 3574,2499,2493,2217,2105,1760,1755,40514]\n",
    "\n",
    "# Add the bar graph\n",
    "ax.bar(PARENTNUMBER, COUNT)\n",
    "\n",
    "ax.set_xlabel('PARENT NUMBER')\n",
    "ax.set_ylabel('COUNT')\n",
    "ax.set_title(' GRAPH')\n",
    "\n",
    "# Rotate the x-axis labels for better visibility\n",
    "plt.xticks(rotation=45, ha='right')\n",
    "\n",
    "plt.show()\n"
   ]
  },
  {
   "cell_type": "code",
   "execution_count": null,
   "id": "19ae8b7e-07fd-4ddf-99fc-556a67850c3e",
   "metadata": {
    "tags": []
   },
   "outputs": [],
   "source": [
    "x = grocery_t10_22['PARENT NUMBER']\n",
    "y = grocery_t10_22['COUNT']\n",
    "\n",
    "\n",
    "\n",
    "plt.bar(x, y)\n",
    "plt.xlabel('PARENT NUMBER')\n",
    "plt.ylabel('COUNT')\n",
    "plt.title('Sales by Store Throughout Country')\n",
    "plt.xticks(rotation=90)  # Rotate x-axis labels if needed\n",
    "plt.show()"
   ]
  },
  {
   "cell_type": "code",
   "execution_count": null,
   "id": "733fda8d-6722-421f-884e-344d4bcf6a0a",
   "metadata": {},
   "outputs": [],
   "source": [
    "x = grocery_t10_22['PARENT NUMBER']\n",
    "y = grocery_t10_22['COUNT']\n",
    "\n",
    "\n",
    "plt.bar(x, y)\n",
    "plt.xlabel('PARENT NUMBER')\n",
    "plt.ylabel('COUNT')\n",
    "plt.title('Sales by Store Throughout Country')\n",
    "plt.xticks(rotation=90)  # Rotate x-axis labels if needed\n",
    "plt.show()"
   ]
  },
  {
   "cell_type": "code",
   "execution_count": null,
   "id": "ad6ef1b8-650f-4bb7-8ec9-bf3884f452df",
   "metadata": {
    "tags": []
   },
   "outputs": [],
   "source": [
    "dataset.count()"
   ]
  },
  {
   "cell_type": "code",
   "execution_count": null,
   "id": "68b6ed74-4be2-47e5-9fc7-340bd2d661ec",
   "metadata": {},
   "outputs": [],
   "source": []
  },
  {
   "cell_type": "code",
   "execution_count": null,
   "id": "2670157c-c21c-4184-aec8-76e8541c1644",
   "metadata": {
    "tags": []
   },
   "outputs": [],
   "source": [
    "dataset_group = dataset.groupby(['COMPANY','PARENT NUMBER']).tail().count()\n",
    "#dataset.drop(columns=['Unnamed: 0'])\n",
    "dataset_group\n",
    "#Do a bar chart to see how the market share is divided by parent company "
   ]
  },
  {
   "cell_type": "code",
   "execution_count": null,
   "id": "791300ab-788f-4002-899e-da9bcd5bf388",
   "metadata": {
    "tags": []
   },
   "outputs": [],
   "source": [
    "StateData = dataset.groupby(['STATE','PARENT NUMBER']).count()\n",
    "#StateData = df[df['STATE'] == 'GA']\n",
    "StateData\n"
   ]
  },
  {
   "cell_type": "code",
   "execution_count": null,
   "id": "3f27c477-470c-411e-b0bd-222d67440f96",
   "metadata": {
    "tags": []
   },
   "outputs": [],
   "source": [
    "StateData = dataset.groupby(['STATE']).count()\n",
    "plt.figure(figsize=(17,6))\n",
    "plt.bar(StateData[STATE],StateData[PARENTNUMBER])\n",
    "plt.title('Grocery Stores By State')\n",
    "plt.xlabel('STATE')\n",
    "plt.ylabel('PARENT NUMBER')\n",
    "plt.show()"
   ]
  },
  {
   "cell_type": "code",
   "execution_count": null,
   "id": "9e49371d-d292-46f2-874d-89343d2e1461",
   "metadata": {
    "tags": []
   },
   "outputs": [],
   "source": [
    "GroceryStoresInGA = StateData.groupby('COMPANY')\n",
    "GroceryStoresInGA"
   ]
  },
  {
   "cell_type": "code",
   "execution_count": null,
   "id": "4dbe111e-eb12-4174-83b6-f108139ed68b",
   "metadata": {
    "tags": []
   },
   "outputs": [],
   "source": [
    "import numpy as np\n",
    "import matplotlib.pyplot as plt\n",
    "#Y = population code\n",
    "#X = State\n",
    "  \n",
    "# creating the dataset\n",
    "data = {'C':20, 'C++':15, 'Java':30,\n",
    "        'Python':35}\n",
    "courses = list(data.keys())\n",
    "values = list(data.values())\n",
    "  \n",
    "fig = plt.figure(figsize = (10, 5))\n",
    " \n",
    "# creating the bar plot\n",
    "plt.bar(courses, values, color ='maroon',\n",
    "        width = 0.4)\n",
    " \n",
    "plt.xlabel(\"Companies\")\n",
    "plt.ylabel(\"Something\")\n",
    "plt.title(\"Market Share\")\n",
    "plt.show()"
   ]
  },
  {
   "cell_type": "code",
   "execution_count": null,
   "id": "4a1dd2c8-4c25-49f0-9bbd-fcdee73f2f69",
   "metadata": {},
   "outputs": [],
   "source": [
    "#GOAL top ten employee counts throughtout the country\n",
    "\n",
    "#Filter Grocery stores by sic (starting with 5411)\n",
    "grocery_sic = stores_2022.loc[stores_2022[['PRIMARY SIC CODE', 'SIC CODE', 'SIC CODE 1', 'SIC CODE 2', 'SIC CODE 3', 'SIC CODE 4']].astype(str).apply(lambda x: x.str.startswith('5411')).any(axis=1)]\n",
    "grocery_sic.head()\n",
    "#Find top ten parent companies\n",
    "grocery_t10_22 = grocery_sic.groupby('PARENT NUMBER', dropna=False).size().reset_index(name='COUNT')\n",
    "grocery_t10_22.sort_values('COUNT', ascending=False, inplace=True)\n",
    "grocery_t10_22.reset_index(drop=True,inplace=True)\n",
    "# Create other row\n",
    "other_row = grocery_t10_22.iloc[11:]\n",
    "other_column = other_row['COUNT'].sum()\n",
    "# Remove other rows\n",
    "grocery_t10_22 = grocery_t10_22.iloc[:11]\n",
    "grocery_t10_22.loc[len(grocery_t10_22)] = [\"Other\", other_column]\n",
    "grocery_t10_22['PARENT NUMBER'] = grocery_t10_22['PARENT NUMBER'].astype(str)\n",
    "grocery_t10_22['Percent'] = grocery_t10_22['COUNT'] / len(grocery_sic) * 100\n",
    "grocery_t10_22.head(20) "
   ]
  },
  {
   "cell_type": "code",
   "execution_count": null,
   "id": "02c17b9a-d394-48a6-9603-d03556f8718d",
   "metadata": {},
   "outputs": [],
   "source": [
    "x = grocery_t10_22['PARENT NUMBER']\n",
    "y = grocery_t10_22['EMPLOYEE SIZE (5) - LOCATION']\n",
    "\n",
    "\n",
    "\n",
    "plt.bar(x, y)\n",
    "plt.xlabel('PARENT NUMBER')\n",
    "plt.ylabel('COUNT')\n",
    "plt.title('Sales by Store Throughout Country')\n",
    "plt.xticks(rotation=90)  # Rotate x-axis labels if needed\n",
    "plt.show()"
   ]
  },
  {
   "cell_type": "code",
   "execution_count": null,
   "id": "f899cfb1-ce0c-4226-afb2-5bddcdd0feca",
   "metadata": {},
   "outputs": [],
   "source": []
  }
 ],
 "metadata": {
  "kernelspec": {
   "display_name": "Python 3 (ipykernel)",
   "language": "python",
   "name": "python3"
  },
  "language_info": {
   "codemirror_mode": {
    "name": "ipython",
    "version": 3
   },
   "file_extension": ".py",
   "mimetype": "text/x-python",
   "name": "python",
   "nbconvert_exporter": "python",
   "pygments_lexer": "ipython3",
   "version": "3.9.7"
  }
 },
 "nbformat": 4,
 "nbformat_minor": 5
}
